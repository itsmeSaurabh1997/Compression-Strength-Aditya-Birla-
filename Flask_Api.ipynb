{
 "cells": [
  {
   "cell_type": "code",
   "execution_count": null,
   "id": "e31f72a9",
   "metadata": {},
   "outputs": [
    {
     "name": "stdout",
     "output_type": "stream",
     "text": [
      " * Serving Flask app \"__main__\" (lazy loading)\n",
      " * Environment: production\n",
      "\u001b[31m   WARNING: This is a development server. Do not use it in a production deployment.\u001b[0m\n",
      "\u001b[2m   Use a production WSGI server instead.\u001b[0m\n",
      " * Debug mode: off\n"
     ]
    },
    {
     "name": "stderr",
     "output_type": "stream",
     "text": [
      " * Running on all addresses.\n",
      "   WARNING: This is a development server. Do not use it in a production deployment.\n",
      " * Running on http://192.168.1.34:5000/ (Press CTRL+C to quit)\n",
      "192.168.1.34 - - [06/Nov/2023 01:56:46] \"GET / HTTP/1.1\" 200 -\n",
      "192.168.1.34 - - [06/Nov/2023 01:56:47] \"GET /favicon.ico HTTP/1.1\" 404 -\n",
      "192.168.1.34 - - [06/Nov/2023 01:58:15] \"POST /predict HTTP/1.1\" 200 -\n"
     ]
    }
   ],
   "source": [
    "import numpy as np\n",
    "from flask import Flask, request, jsonify, render_template\n",
    "import pickle\n",
    "\n",
    "\n",
    "# Create flask app\n",
    "app = Flask(__name__ , template_folder=\"template\")\n",
    "model = pickle.load(open(\"compression1.pkl\",'rb'))\n",
    "\n",
    "@app.route(\"/\")\n",
    "def Home():\n",
    "    return render_template(\"index.html\")\n",
    "\n",
    "@app.route(\"/predict\", methods = [\"POST\"])\n",
    "def predict():\n",
    "    init_features = [float(x) for x in request.form.values()]\n",
    "    final_features = [np.array(init_features)]\n",
    "    prediction = model.predict(final_features)\n",
    "    return render_template(\"index.html\", prediction_text = \"PREDICTION STRENGTH OF CEMENT MIXTURE : {}\".format(prediction))\n",
    "\n",
    "if __name__==\"__main__\":\n",
    "    app.run(host='0.0.0.0',port = '5000')"
   ]
  },
  {
   "cell_type": "code",
   "execution_count": null,
   "id": "be10bf58",
   "metadata": {},
   "outputs": [],
   "source": []
  }
 ],
 "metadata": {
  "kernelspec": {
   "display_name": "Python 3 (ipykernel)",
   "language": "python",
   "name": "python3"
  },
  "language_info": {
   "codemirror_mode": {
    "name": "ipython",
    "version": 3
   },
   "file_extension": ".py",
   "mimetype": "text/x-python",
   "name": "python",
   "nbconvert_exporter": "python",
   "pygments_lexer": "ipython3",
   "version": "3.9.13"
  }
 },
 "nbformat": 4,
 "nbformat_minor": 5
}
